{
  "nbformat": 4,
  "nbformat_minor": 0,
  "metadata": {
    "colab": {
      "provenance": []
    },
    "kernelspec": {
      "name": "python3",
      "display_name": "Python 3"
    },
    "language_info": {
      "name": "python"
    }
  },
  "cells": [
    {
      "cell_type": "code",
      "execution_count": 3,
      "metadata": {
        "colab": {
          "base_uri": "https://localhost:8080/"
        },
        "id": "i-XxAENZDoH6",
        "outputId": "ab34a797-4b76-486e-b1e1-861f533b73eb"
      },
      "outputs": [
        {
          "output_type": "stream",
          "name": "stdout",
          "text": [
            "PnL by Sentiment:\n",
            "   classification        mean           sum  count\n",
            "0  Extreme Greed   -9.681505 -7.919471e+03    818\n",
            "1           Fear  224.481231  2.856973e+06  12727\n",
            "2          Greed  -56.700945 -8.170606e+04   1441\n",
            "3        Neutral   76.747074  1.195719e+05   1558\n",
            "\n",
            "Average Trade Size (USD) by Sentiment:\n",
            "   classification  avg_trade_size_usd\n",
            "0  Extreme Greed         5672.919829\n",
            "1           Fear        18420.351405\n",
            "2          Greed         7177.487273\n",
            "3        Neutral         8842.974705\n",
            "\n",
            "Trade Direction Distribution by Sentiment:\n",
            " Direction       Auto-Deleveraging   Buy  Close Long  Close Short  \\\n",
            "classification                                                     \n",
            "Extreme Greed                   0    88         179           84   \n",
            "Fear                            0  1158        2471         2422   \n",
            "Greed                           0   306          89          154   \n",
            "Neutral                         8     0         586          139   \n",
            "\n",
            "Direction       Long > Short  Open Long  Open Short  Sell  Short > Long  \\\n",
            "classification                                                            \n",
            "Extreme Greed              0        273         194     0             0   \n",
            "Fear                       4       2626        3127   918             1   \n",
            "Greed                      0         71         741    74             0   \n",
            "Neutral                    0        569         225     0             1   \n",
            "\n",
            "Direction       Spot Dust Conversion  \n",
            "classification                        \n",
            "Extreme Greed                      0  \n",
            "Fear                               0  \n",
            "Greed                              6  \n",
            "Neutral                           30  \n"
          ]
        }
      ],
      "source": [
        "import pandas as pd\n",
        "\n",
        "# Load datasets\n",
        "sentiment_df = pd.read_csv(\"fear_greed_index.csv\")\n",
        "trader_df = pd.read_csv(\"historical_data.csv\")\n",
        "\n",
        "# Convert timestamps to date format\n",
        "sentiment_df['date'] = pd.to_datetime(sentiment_df['date']).dt.date\n",
        "trader_df['trade_date'] = pd.to_datetime(trader_df['Timestamp'], unit='ms').dt.date\n",
        "\n",
        "# Merge on date\n",
        "merged_df = pd.merge(trader_df, sentiment_df[['date', 'classification']],\n",
        "                     left_on='trade_date', right_on='date', how='left')\n",
        "\n",
        "# Remove trades with no sentiment data\n",
        "merged_df = merged_df.dropna(subset=['classification'])\n",
        "\n",
        "# ---- Analysis ----\n",
        "\n",
        "# 1. PnL grouped by sentiment\n",
        "pnl_by_sentiment = merged_df.groupby('classification')['Closed PnL'].agg(['mean', 'sum', 'count']).reset_index()\n",
        "\n",
        "# 2. Avg trade size in USD by sentiment\n",
        "avg_size_by_sentiment = merged_df.groupby('classification')['Size USD'].mean().reset_index(name='avg_trade_size_usd')\n",
        "\n",
        "# 3. Trade direction distribution by sentiment\n",
        "direction_dist = merged_df.groupby(['classification', 'Direction']).size().unstack(fill_value=0)\n",
        "\n",
        "# Display results\n",
        "print(\"PnL by Sentiment:\\n\", pnl_by_sentiment)\n",
        "print(\"\\nAverage Trade Size (USD) by Sentiment:\\n\", avg_size_by_sentiment)\n",
        "print(\"\\nTrade Direction Distribution by Sentiment:\\n\", direction_dist)\n"
      ]
    }
  ]
}